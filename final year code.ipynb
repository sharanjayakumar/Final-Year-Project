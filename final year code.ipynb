{
 "cells": [
  {
   "cell_type": "markdown",
   "id": "254fb4be",
   "metadata": {
    "papermill": {
     "duration": 0.006384,
     "end_time": "2023-10-26T14:27:51.620932",
     "exception": false,
     "start_time": "2023-10-26T14:27:51.614548",
     "status": "completed"
    },
    "tags": []
   },
   "source": [
    "# Importing Libraries"
   ]
  },
  {
   "cell_type": "code",
   "execution_count": 1,
   "id": "1d88a0c3",
   "metadata": {
    "_kg_hide-input": true,
    "_kg_hide-output": true,
    "execution": {
     "iopub.execute_input": "2023-10-26T14:27:51.633187Z",
     "iopub.status.busy": "2023-10-26T14:27:51.632731Z",
     "iopub.status.idle": "2023-10-26T14:27:56.916656Z",
     "shell.execute_reply": "2023-10-26T14:27:56.915453Z"
    },
    "papermill": {
     "duration": 5.293269,
     "end_time": "2023-10-26T14:27:56.919508",
     "exception": false,
     "start_time": "2023-10-26T14:27:51.626239",
     "status": "completed"
    },
    "tags": []
   },
   "outputs": [],
   "source": [
    "import glob\n",
    "import numpy as np\n",
    "import pandas as pd\n",
    "import os\n",
    "import shutil \n",
    "import matplotlib.pyplot as plt\n",
    "import tensorflow as tf\n",
    "from tensorflow import keras\n",
    "import cv2\n",
    "from keras.preprocessing.image import ImageDataGenerator, load_img, img_to_array, array_to_img\n",
    "%matplotlib inline"
   ]
  },
  {
   "cell_type": "markdown",
   "id": "0a828f82",
   "metadata": {
    "papermill": {
     "duration": 0.005282,
     "end_time": "2023-10-26T14:27:56.930440",
     "exception": false,
     "start_time": "2023-10-26T14:27:56.925158",
     "status": "completed"
    },
    "tags": []
   },
   "source": [
    "# Useful constants"
   ]
  },
  {
   "cell_type": "code",
   "execution_count": 2,
   "id": "aa29e05a",
   "metadata": {
    "execution": {
     "iopub.execute_input": "2023-10-26T14:27:56.942695Z",
     "iopub.status.busy": "2023-10-26T14:27:56.941609Z",
     "iopub.status.idle": "2023-10-26T14:27:56.947628Z",
     "shell.execute_reply": "2023-10-26T14:27:56.946746Z"
    },
    "papermill": {
     "duration": 0.014203,
     "end_time": "2023-10-26T14:27:56.949741",
     "exception": false,
     "start_time": "2023-10-26T14:27:56.935538",
     "status": "completed"
    },
    "tags": []
   },
   "outputs": [],
   "source": [
    "images=[]\n",
    "labels=[]\n",
    "feature_dictionary = {\n",
    "    'label': tf.io.FixedLenFeature([], tf.int64),\n",
    "    'label_normal': tf.io.FixedLenFeature([], tf.int64),\n",
    "    'image': tf.io.FixedLenFeature([], tf.string)\n",
    "    }\n",
    "Image_height = 224\n",
    "Image_width = 224"
   ]
  },
  {
   "cell_type": "markdown",
   "id": "f96cf156",
   "metadata": {
    "papermill": {
     "duration": 0.004843,
     "end_time": "2023-10-26T14:27:56.959717",
     "exception": false,
     "start_time": "2023-10-26T14:27:56.954874",
     "status": "completed"
    },
    "tags": []
   },
   "source": [
    "# Hyperparameters"
   ]
  },
  {
   "cell_type": "code",
   "execution_count": 3,
   "id": "70c6b926",
   "metadata": {
    "execution": {
     "iopub.execute_input": "2023-10-26T14:27:56.971053Z",
     "iopub.status.busy": "2023-10-26T14:27:56.970771Z",
     "iopub.status.idle": "2023-10-26T14:27:56.981503Z",
     "shell.execute_reply": "2023-10-26T14:27:56.980740Z"
    },
    "papermill": {
     "duration": 0.018763,
     "end_time": "2023-10-26T14:27:56.983535",
     "exception": false,
     "start_time": "2023-10-26T14:27:56.964772",
     "status": "completed"
    },
    "tags": []
   },
   "outputs": [],
   "source": [
    "def _parse_function(example, feature_dictionary=feature_dictionary):\n",
    "    parsed_example = tf.io.parse_example(example, feature_dictionary)\n",
    "    return parsed_example\n",
    " \n",
    "def read_data(filename):\n",
    "    full_dataset = tf.data.TFRecordDataset(filename,num_parallel_reads=tf.data.experimental.AUTOTUNE)\n",
    "    print(full_dataset)\n",
    "    full_dataset = full_dataset.shuffle(buffer_size=31000)\n",
    "    full_dataset = full_dataset.cache()\n",
    "    print(\"Size of Training Dataset: \", len(list(full_dataset)))\n",
    "    \n",
    "    feature_dictionary = {\n",
    "    'label': tf.io.FixedLenFeature([], tf.int64),\n",
    "    'label_normal': tf.io.FixedLenFeature([], tf.int64),\n",
    "    'image': tf.io.FixedLenFeature([], tf.string)\n",
    "    }   \n",
    " \n",
    "    full_dataset = full_dataset.map(_parse_function, num_parallel_calls=tf.data.experimental.AUTOTUNE)\n",
    "    print(full_dataset)\n",
    "    for image_features in full_dataset:\n",
    "        image = image_features['image'].numpy()\n",
    "        image = tf.io.decode_raw(image_features['image'], tf.uint8)\n",
    "        image = tf.reshape(image, [299, 299])        \n",
    "        image=image.numpy()\n",
    "        image=cv2.resize(image,(Image_height,Image_width))\n",
    "        image=cv2.merge([image,image,image])        \n",
    "        #plt.imshow(image)\n",
    "        images.append(image)\n",
    "        labels.append(image_features['label_normal'].numpy())"
   ]
  },
  {
   "cell_type": "markdown",
   "id": "099d88cf",
   "metadata": {
    "papermill": {
     "duration": 0.004911,
     "end_time": "2023-10-26T14:27:56.993673",
     "exception": false,
     "start_time": "2023-10-26T14:27:56.988762",
     "status": "completed"
    },
    "tags": []
   },
   "source": [
    "# Helper Functions"
   ]
  },
  {
   "cell_type": "code",
   "execution_count": 4,
   "id": "9327df06",
   "metadata": {
    "execution": {
     "iopub.execute_input": "2023-10-26T14:27:57.005204Z",
     "iopub.status.busy": "2023-10-26T14:27:57.004598Z",
     "iopub.status.idle": "2023-10-26T14:29:10.156077Z",
     "shell.execute_reply": "2023-10-26T14:29:10.155033Z"
    },
    "papermill": {
     "duration": 73.164959,
     "end_time": "2023-10-26T14:29:10.163724",
     "exception": false,
     "start_time": "2023-10-26T14:27:56.998765",
     "status": "completed"
    },
    "tags": []
   },
   "outputs": [
    {
     "name": "stdout",
     "output_type": "stream",
     "text": [
      "<TFRecordDatasetV2 shapes: (), types: tf.string>\n",
      "Size of Training Dataset:  11177\n",
      "<ParallelMapDataset shapes: {image: (), label: (), label_normal: ()}, types: {image: tf.string, label: tf.int64, label_normal: tf.int64}>\n",
      "<TFRecordDatasetV2 shapes: (), types: tf.string>\n",
      "Size of Training Dataset:  11177\n",
      "<ParallelMapDataset shapes: {image: (), label: (), label_normal: ()}, types: {image: tf.string, label: tf.int64, label_normal: tf.int64}>\n",
      "<TFRecordDatasetV2 shapes: (), types: tf.string>\n",
      "Size of Training Dataset:  11177\n",
      "<ParallelMapDataset shapes: {image: (), label: (), label_normal: ()}, types: {image: tf.string, label: tf.int64, label_normal: tf.int64}>\n",
      "33531\n"
     ]
    }
   ],
   "source": [
    "filenames=[\n",
    "    '/kaggle/input/ddsm-mammography/training10_0/training10_0.tfrecords',\n",
    "    '/kaggle/input/ddsm-mammography/training10_1/training10_1.tfrecords',\n",
    "    '/kaggle/input/ddsm-mammography/training10_2/training10_2.tfrecords',\n",
    "#     '/kaggle/input/ddsm-mammography/training10_3/training10_3.tfrecords',\n",
    "#     '/kaggle/input/ddsm-mammography/training10_4/training10_4.tfrecords'\n",
    "          ]\n",
    " \n",
    "for file in filenames:\n",
    "    read_data(file)\n",
    " \n",
    "print(len(images))"
   ]
  },
  {
   "cell_type": "markdown",
   "id": "0879be13",
   "metadata": {
    "papermill": {
     "duration": 0.005394,
     "end_time": "2023-10-26T14:29:10.174679",
     "exception": false,
     "start_time": "2023-10-26T14:29:10.169285",
     "status": "completed"
    },
    "tags": []
   },
   "source": [
    "# Data Loading"
   ]
  },
  {
   "cell_type": "code",
   "execution_count": 5,
   "id": "10152808",
   "metadata": {
    "execution": {
     "iopub.execute_input": "2023-10-26T14:29:10.187363Z",
     "iopub.status.busy": "2023-10-26T14:29:10.186558Z",
     "iopub.status.idle": "2023-10-26T14:29:12.177566Z",
     "shell.execute_reply": "2023-10-26T14:29:12.176598Z"
    },
    "papermill": {
     "duration": 1.999541,
     "end_time": "2023-10-26T14:29:12.179688",
     "exception": false,
     "start_time": "2023-10-26T14:29:10.180147",
     "status": "completed"
    },
    "tags": []
   },
   "outputs": [
    {
     "name": "stdout",
     "output_type": "stream",
     "text": [
      "(224, 224, 3)\n"
     ]
    },
    {
     "data": {
      "image/png": "[encoded data removed]",
      "text/plain": [
       "<Figure size 432x288 with 1 Axes>"
      ]
     },
     "metadata": {
      "needs_background": "light"
     },
     "output_type": "display_data"
    }
   ],
   "source": [
    "images = np.array(images)\n",
    "labels = np.array(labels)\n",
    " \n",
    "     \n",
    "\n",
    "plt.imshow(images[19])\n",
    "print(images[0].shape)"
   ]
  },
  {
   "cell_type": "code",
   "execution_count": 6,
   "id": "c357fb9e",
   "metadata": {
    "execution": {
     "iopub.execute_input": "2023-10-26T14:29:12.194078Z",
     "iopub.status.busy": "2023-10-26T14:29:12.193303Z",
     "iopub.status.idle": "2023-10-26T14:29:14.532013Z",
     "shell.execute_reply": "2023-10-26T14:29:14.531069Z"
    },
    "papermill": {
     "duration": 2.348351,
     "end_time": "2023-10-26T14:29:14.534492",
     "exception": false,
     "start_time": "2023-10-26T14:29:12.186141",
     "status": "completed"
    },
    "tags": []
   },
   "outputs": [],
   "source": [
    "from sklearn.model_selection import train_test_split\n",
    "x_train, x_test, y_train, y_test = train_test_split(images, labels, test_size=0.20, stratify = labels, random_state=10)\n",
    "x_val, x_test, y_val, y_test = train_test_split(x_test, y_test, test_size=0.50, stratify = y_test, random_state=50)"
   ]
  },
  {
   "cell_type": "code",
   "execution_count": 7,
   "id": "21e27f89",
   "metadata": {
    "execution": {
     "iopub.execute_input": "2023-10-26T14:29:14.549022Z",
     "iopub.status.busy": "2023-10-26T14:29:14.548664Z",
     "iopub.status.idle": "2023-10-26T14:29:15.650397Z",
     "shell.execute_reply": "2023-10-26T14:29:15.649009Z"
    },
    "papermill": {
     "duration": 1.111773,
     "end_time": "2023-10-26T14:29:15.652822",
     "exception": false,
     "start_time": "2023-10-26T14:29:14.541049",
     "status": "completed"
    },
    "tags": []
   },
   "outputs": [
    {
     "name": "stdout",
     "output_type": "stream",
     "text": [
      "Downloading data from https://storage.googleapis.com/tensorflow/keras-applications/vgg16/vgg16_weights_tf_dim_ordering_tf_kernels_notop.h5\n",
      "58892288/58889256 [==============================] - 0s 0us/step\n",
      "58900480/58889256 [==============================] - 0s 0us/step\n",
      "Model: \"model\"\n",
      "__________________________________________________________________________________________________\n",
      "Layer (type)                    Output Shape         Param #     Connected to                     \n",
      "==================================================================================================\n",
      "input_1 (InputLayer)            [(None, 224, 224, 3) 0                                            \n",
      "__________________________________________________________________________________________________\n",
      "vgg16 (Functional)              (None, 7, 7, 512)    14714688    input_1[0][0]                    \n",
      "__________________________________________________________________________________________________\n",
      "batch_normalization (BatchNorma (None, 7, 7, 512)    2048        vgg16[1][0]                      \n",
      "__________________________________________________________________________________________________\n",
      "conv2d (Conv2D)                 (None, 7, 7, 64)     32832       batch_normalization[0][0]        \n",
      "__________________________________________________________________________________________________\n",
      "conv2d_1 (Conv2D)               (None, 7, 7, 16)     1040        conv2d[0][0]                     \n",
      "__________________________________________________________________________________________________\n",
      "locally_connected2d (LocallyCon (None, 7, 7, 1)      833         conv2d_1[0][0]                   \n",
      "__________________________________________________________________________________________________\n",
      "conv2d_2 (Conv2D)               (None, 7, 7, 512)    512         locally_connected2d[0][0]        \n",
      "__________________________________________________________________________________________________\n",
      "multiply (Multiply)             (None, 7, 7, 512)    0           conv2d_2[0][0]                   \n",
      "                                                                 batch_normalization[0][0]        \n",
      "__________________________________________________________________________________________________\n",
      "global_average_pooling2d (Globa (None, 512)          0           multiply[0][0]                   \n",
      "__________________________________________________________________________________________________\n",
      "global_average_pooling2d_1 (Glo (None, 512)          0           conv2d_2[0][0]                   \n",
      "__________________________________________________________________________________________________\n",
      "RescaleGAP (Lambda)             (None, 512)          0           global_average_pooling2d[0][0]   \n",
      "                                                                 global_average_pooling2d_1[0][0] \n",
      "__________________________________________________________________________________________________\n",
      "dropout (Dropout)               (None, 512)          0           RescaleGAP[0][0]                 \n",
      "__________________________________________________________________________________________________\n",
      "dense (Dense)                   (None, 128)          65664       dropout[0][0]                    \n",
      "__________________________________________________________________________________________________\n",
      "dropout_1 (Dropout)             (None, 128)          0           dense[0][0]                      \n",
      "__________________________________________________________________________________________________\n",
      "dense_1 (Dense)                 (None, 1)            129         dropout_1[0][0]                  \n",
      "==================================================================================================\n",
      "Total params: 14,817,746\n",
      "Trainable params: 101,522\n",
      "Non-trainable params: 14,716,224\n",
      "__________________________________________________________________________________________________\n"
     ]
    }
   ],
   "source": [
    "from keras.applications.vgg16 import VGG16\n",
    "from keras.layers import GlobalAveragePooling2D, Dense, Dropout, Flatten, Input, Conv2D, multiply, LocallyConnected2D, Lambda\n",
    "from keras.models import Model\n",
    "in_lay = Input(x_train.shape[1:])\n",
    "base_pretrained_model = VGG16(input_shape = x_train.shape[1:], include_top = False, weights = 'imagenet')\n",
    "base_pretrained_model.trainable = False\n",
    "pt_features = base_pretrained_model(in_lay)\n",
    "pt_depth = base_pretrained_model.get_output_shape_at(0)[-1]\n",
    "pt_features = base_pretrained_model(in_lay)\n",
    "from keras.layers import BatchNormalization\n",
    "bn_features = BatchNormalization()(pt_features)\n",
    "# here we do an attention mechanism to turn pixels in the GAP on an off\n",
    "attn_layer = Conv2D(64, kernel_size = (1,1), padding = 'same', activation = 'relu')(bn_features)\n",
    "attn_layer = Conv2D(16, kernel_size = (1,1), padding = 'same', activation = 'relu')(attn_layer)\n",
    "attn_layer = LocallyConnected2D(1, \n",
    "                                kernel_size = (1,1), \n",
    "                                padding = 'valid', \n",
    "                                activation = 'sigmoid')(attn_layer)\n",
    "                        \n",
    "# fan it out to all of the channels\n",
    "up_c2_w = np.ones((1, 1, 1, pt_depth))\n",
    "up_c2 = Conv2D(pt_depth, kernel_size = (1,1), padding = 'same', \n",
    "               activation = 'linear', use_bias = False, weights = [up_c2_w])\n",
    "up_c2.trainable = False\n",
    "attn_layer = up_c2(attn_layer)\n",
    "\n",
    "mask_features = multiply([attn_layer, bn_features])\n",
    "gap_features = GlobalAveragePooling2D()(mask_features)\n",
    "gap_mask = GlobalAveragePooling2D()(attn_layer)\n",
    "\n",
    "# to account for missing values from the attention model\n",
    "gap = Lambda(lambda x: x[0]/x[1], name = 'RescaleGAP')([gap_features, gap_mask])\n",
    "gap_dr = Dropout(0.5)(gap)\n",
    "dr_steps = Dropout(0.25)(Dense(128, activation = 'elu')(gap_dr))\n",
    "out_layer = Dense(1, activation = 'sigmoid')(dr_steps)\n",
    "\n",
    "final_model = Model(inputs = [in_lay], outputs = [out_layer])\n",
    "final_model.summary()"
   ]
  },
  {
   "cell_type": "code",
   "execution_count": 8,
   "id": "b0268c00",
   "metadata": {
    "execution": {
     "iopub.execute_input": "2023-10-26T14:29:15.670188Z",
     "iopub.status.busy": "2023-10-26T14:29:15.669891Z",
     "iopub.status.idle": "2023-10-26T15:08:26.035634Z",
     "shell.execute_reply": "2023-10-26T15:08:26.034662Z"
    },
    "papermill": {
     "duration": 2350.377945,
     "end_time": "2023-10-26T15:08:26.038105",
     "exception": false,
     "start_time": "2023-10-26T14:29:15.660160",
     "status": "completed"
    },
    "tags": []
   },
   "outputs": [
    {
     "name": "stdout",
     "output_type": "stream",
     "text": [
      "Epoch 1/30\n",
      "3353/3353 [==============================] - 97s 26ms/step - loss: 0.2914 - acc: 0.8869 - val_loss: 0.2521 - val_acc: 0.8980\n",
      "\n",
      "Epoch 00001: val_loss improved from inf to 0.25210, saving model to breast_cancer_weights.best.hdf5\n",
      "Epoch 2/30\n",
      "3353/3353 [==============================] - 76s 23ms/step - loss: 0.2471 - acc: 0.9024\n",
      "Epoch 3/30\n",
      "3353/3353 [==============================] - 75s 22ms/step - loss: 0.2178 - acc: 0.9125\n",
      "Epoch 4/30\n",
      "3353/3353 [==============================] - 75s 22ms/step - loss: 0.2080 - acc: 0.9188\n",
      "Epoch 5/30\n",
      "3353/3353 [==============================] - 75s 23ms/step - loss: 0.1969 - acc: 0.9220\n",
      "Epoch 6/30\n",
      "3353/3353 [==============================] - 75s 22ms/step - loss: 0.1887 - acc: 0.9263\n",
      "Epoch 7/30\n",
      "3353/3353 [==============================] - 75s 23ms/step - loss: 0.1807 - acc: 0.9290\n",
      "Epoch 8/30\n",
      "3353/3353 [==============================] - 75s 22ms/step - loss: 0.1730 - acc: 0.9319\n",
      "Epoch 9/30\n",
      "3353/3353 [==============================] - 76s 23ms/step - loss: 0.1702 - acc: 0.9324\n",
      "Epoch 10/30\n",
      "3353/3353 [==============================] - 76s 23ms/step - loss: 0.1657 - acc: 0.9357\n",
      "Epoch 11/30\n",
      "3353/3353 [==============================] - 76s 23ms/step - loss: 0.1603 - acc: 0.9380\n",
      "Epoch 12/30\n",
      "3353/3353 [==============================] - 76s 23ms/step - loss: 0.1566 - acc: 0.9385\n",
      "Epoch 13/30\n",
      "3353/3353 [==============================] - 76s 23ms/step - loss: 0.1543 - acc: 0.9398\n",
      "Epoch 14/30\n",
      "3353/3353 [==============================] - 76s 23ms/step - loss: 0.1499 - acc: 0.9407\n",
      "Epoch 15/30\n",
      "3353/3353 [==============================] - 76s 23ms/step - loss: 0.1503 - acc: 0.9419\n",
      "Epoch 16/30\n",
      "3353/3353 [==============================] - 77s 23ms/step - loss: 0.1492 - acc: 0.9436\n",
      "Epoch 17/30\n",
      "3353/3353 [==============================] - 76s 23ms/step - loss: 0.1408 - acc: 0.9466\n",
      "Epoch 18/30\n",
      "3353/3353 [==============================] - 76s 23ms/step - loss: 0.1399 - acc: 0.9453\n",
      "Epoch 19/30\n",
      "3353/3353 [==============================] - 78s 23ms/step - loss: 0.1382 - acc: 0.9462\n",
      "Epoch 20/30\n",
      "3353/3353 [==============================] - 79s 24ms/step - loss: 0.1357 - acc: 0.9478\n",
      "Epoch 21/30\n",
      "3353/3353 [==============================] - 79s 24ms/step - loss: 0.1328 - acc: 0.9494\n",
      "Epoch 22/30\n",
      "3353/3353 [==============================] - 79s 24ms/step - loss: 0.1336 - acc: 0.9483\n",
      "Epoch 23/30\n",
      "3353/3353 [==============================] - 79s 24ms/step - loss: 0.1284 - acc: 0.9515\n",
      "Epoch 24/30\n",
      "3353/3353 [==============================] - 79s 24ms/step - loss: 0.1275 - acc: 0.9526\n",
      "Epoch 25/30\n",
      "3353/3353 [==============================] - 79s 24ms/step - loss: 0.1306 - acc: 0.9506\n",
      "Epoch 26/30\n",
      "3353/3353 [==============================] - 79s 24ms/step - loss: 0.1288 - acc: 0.9526\n",
      "Epoch 27/30\n",
      "3353/3353 [==============================] - 79s 24ms/step - loss: 0.1240 - acc: 0.9537\n",
      "Epoch 28/30\n",
      "3353/3353 [==============================] - 79s 24ms/step - loss: 0.1218 - acc: 0.9547\n",
      "Epoch 29/30\n",
      "3353/3353 [==============================] - 79s 24ms/step - loss: 0.1192 - acc: 0.9548\n",
      "Epoch 30/30\n",
      "3353/3353 [==============================] - 76s 23ms/step - loss: 0.1217 - acc: 0.9533\n",
      "105/105 [==============================] - 12s 82ms/step - loss: 0.2713 - acc: 0.9103\n",
      "Test_loss_value = 0.2713193893432617\n",
      "test_accuracy = 0.9102563858032227\n"
     ]
    },
    {
     "data": {
      "image/png": "[encoded data removed]",
      "text/plain": [
       "<Figure size 1296x576 with 2 Axes>"
      ]
     },
     "metadata": {
      "needs_background": "light"
     },
     "output_type": "display_data"
    }
   ],
   "source": [
    "from keras.callbacks import ModelCheckpoint, LearningRateScheduler, EarlyStopping, ReduceLROnPlateau\n",
    "weight_path=\"{}_weights.best.hdf5\".format('breast_cancer')\n",
    "checkpoint = ModelCheckpoint(weight_path, monitor='val_loss', verbose=1, \n",
    "                             save_best_only=True, mode='min', save_weights_only = True)\n",
    "\n",
    "\n",
    "reduceLROnPlat = ReduceLROnPlateau(monitor='val_loss', factor=0.2, patience=3, verbose=1, mode='auto', epsilon=0.0001, cooldown=5, min_lr=0.00001)\n",
    "#reduceLROnPlat = ReduceLROnPlateau()\n",
    "early = EarlyStopping(monitor=\"val_loss\", \n",
    "                      mode=\"min\", \n",
    "                      patience=5) # probably needs to be more patient, but kaggle time is limited\n",
    "callbacks_list = [checkpoint, early, reduceLROnPlat]\n",
    "     \n",
    "\n",
    "# Compile the model\n",
    "final_model.compile(tf.keras.optimizers.Adam(learning_rate=.001), \n",
    "              loss='binary_crossentropy', \n",
    "              metrics=['acc'])\n",
    "     \n",
    "\n",
    "# train the model\n",
    "\n",
    "history = final_model.fit(x_train, y_train, \n",
    "                          steps_per_epoch=len(x_train)//8,\n",
    "                          epochs=30,\n",
    "                          validation_data = (x_val, y_val),\n",
    "                          validation_steps = len(x_val)//8, \n",
    "                          callbacks = callbacks_list\n",
    "                        )\n",
    "\n",
    "loss_value , accuracy = final_model.evaluate(x_test, y_test)\n",
    "\n",
    "print('Test_loss_value = ' +str(loss_value))\n",
    "print('test_accuracy = ' + str(accuracy))\n",
    "     \n",
    "\n",
    "# PLOTTING RESULTS (Train vs Validation) \n",
    "import matplotlib.pyplot as plt\n",
    "import numpy as np\n",
    "\n",
    "def Train_Val_Plot(acc,val_acc,loss,val_loss):\n",
    "    \n",
    "    fig, (ax1, ax2) = plt.subplots(1,2, figsize= (18,8))\n",
    "    fig.suptitle(\" MODEL'S METRICS VISUALIZATION \")\n",
    "    ax1.set_xticks(np.arange(1, 21, 1))\n",
    "    \n",
    "    ax1.plot(range(1, len(acc) + 1), acc)\n",
    "    ax1.plot(range(1, len(val_acc) + 1), val_acc)\n",
    "    #ax1.set_title('History of Accuracy')\n",
    "    ax1.set_xlabel('Epochs')\n",
    "    ax1.set_ylabel('Accuracy')\n",
    "    ax1.legend(['training', 'validation'])\n",
    "    #plt.xticks(np.arange(1, 21, 1))\n",
    "    ax2.set_xticks(np.arange(1, 21, 1))\n",
    "    ax2.plot(range(1, len(loss) + 1), loss)\n",
    "    ax2.plot(range(1, len(val_loss) + 1), val_loss)\n",
    "    #ax2.set_title('History of Loss')\n",
    "    ax2.set_xlabel('Epochs')\n",
    "    ax2.set_ylabel('Loss')\n",
    "    ax2.legend(['training', 'validation']) \n",
    "    \n",
    "    plt.show()\n",
    "    fig.savefig('figure.png')\n",
    "    \n",
    "Train_Val_Plot(history.history['acc'],history.history['val_acc'],\n",
    "               history.history['loss'],history.history['val_loss'])"
   ]
  },
  {
   "cell_type": "code",
   "execution_count": 9,
   "id": "0c70735d",
   "metadata": {
    "execution": {
     "iopub.execute_input": "2023-10-26T15:08:31.353668Z",
     "iopub.status.busy": "2023-10-26T15:08:31.352533Z",
     "iopub.status.idle": "2023-10-26T15:08:38.856865Z",
     "shell.execute_reply": "2023-10-26T15:08:38.853190Z"
    },
    "papermill": {
     "duration": 10.186842,
     "end_time": "2023-10-26T15:08:38.861252",
     "exception": false,
     "start_time": "2023-10-26T15:08:28.674410",
     "status": "completed"
    },
    "tags": []
   },
   "outputs": [
    {
     "name": "stdout",
     "output_type": "stream",
     "text": [
      "(3354, 128)\n",
      "0.8660714285714286\n"
     ]
    }
   ],
   "source": [
    "predictions = final_model.layers[-2].output\n",
    "\n",
    "model_feat = keras.Model(inputs = final_model.inputs ,outputs = predictions)\n",
    "\n",
    "Extracted_features = model_feat.predict(x_test)\n",
    "print(Extracted_features.shape)\n",
    "     \n",
    "\n",
    "train_image, valid_image, train_label, valid_label = train_test_split(Extracted_features, y_test, test_size=0.20, stratify = y_test, random_state=10)\n",
    "val_img, test_img, val_lab, test_lab = train_test_split(valid_image, valid_label, test_size=0.5, \n",
    "                                                        stratify = valid_label, random_state=50)\n",
    "     \n",
    "\n",
    "from sklearn.metrics import accuracy_score, recall_score, precision_score\n",
    "from sklearn.neighbors import KNeighborsClassifier\n",
    "_classifier = KNeighborsClassifier(n_neighbors=5)\n",
    "     \n",
    "\n",
    "_classifier.fit(train_image, train_label)\n",
    "     \n",
    "\n",
    "pred = _classifier.predict(test_img)\n",
    "acc = accuracy_score(y_true = test_lab, y_pred = pred)\n",
    "print(acc)"
   ]
  },
  {
   "cell_type": "code",
   "execution_count": 10,
   "id": "84018b7a",
   "metadata": {
    "execution": {
     "iopub.execute_input": "2023-10-26T15:08:44.207293Z",
     "iopub.status.busy": "2023-10-26T15:08:44.206316Z",
     "iopub.status.idle": "2023-10-26T15:08:44.842737Z",
     "shell.execute_reply": "2023-10-26T15:08:44.841489Z"
    },
    "papermill": {
     "duration": 3.23892,
     "end_time": "2023-10-26T15:08:44.845153",
     "exception": false,
     "start_time": "2023-10-26T15:08:41.606233",
     "status": "completed"
    },
    "tags": []
   },
   "outputs": [
    {
     "name": "stdout",
     "output_type": "stream",
     "text": [
      "(3354, 128)\n",
      "(3354, 1)\n",
      "(3354, 128)\n",
      "(3354, 1)\n",
      "(3354, 128)\n",
      "(3354,)\n",
      "128\n",
      "(2683, 128)\n",
      "(671,)\n"
     ]
    }
   ],
   "source": [
    "final_features = Extracted_features\n",
    "lab = np.array(y_test)\n",
    "lab = lab.reshape(lab.shape[0], 1)\n",
    "print(final_features.shape)\n",
    "print(lab.shape)\n",
    "np.savetxt(\"ext_features.csv\", final_features, delimiter=\",\")\n",
    "np.savetxt(\"labels.csv\", lab, delimiter=\",\")\n",
    "     \n",
    "\n",
    "df = pd.read_csv('ext_features.csv', header=None)\n",
    "df2 = pd.read_csv('labels.csv', header=None)\n",
    "\n",
    "print(df.shape)\n",
    "print(df2.shape)\n",
    "total_features=df.shape[1]\n",
    "x=df[df.columns[:total_features]]\n",
    "y=df2[df2.columns[-1]].astype(int)\n",
    "\n",
    "print(x.shape)\n",
    "print(y.shape)\n",
    "print(total_features)\n",
    "     \n",
    "\n",
    "from sklearn.model_selection import train_test_split\n",
    "train_x, test_x, train_y, test_y = train_test_split(x, y, test_size=0.2, stratify = y, random_state=10)\n",
    "print(train_x.shape)\n",
    "print(test_y.shape)\n",
    "     "
   ]
  },
  {
   "cell_type": "code",
   "execution_count": 11,
   "id": "f0f41b76",
   "metadata": {
    "execution": {
     "iopub.execute_input": "2023-10-26T15:08:50.174851Z",
     "iopub.status.busy": "2023-10-26T15:08:50.174445Z",
     "iopub.status.idle": "2023-10-26T15:57:58.301583Z",
     "shell.execute_reply": "2023-10-26T15:57:58.299730Z"
    },
    "papermill": {
     "duration": 2953.621677,
     "end_time": "2023-10-26T15:58:01.117865",
     "exception": false,
     "start_time": "2023-10-26T15:08:47.496188",
     "status": "completed"
    },
    "tags": []
   },
   "outputs": [
    {
     "name": "stdout",
     "output_type": "stream",
     "text": [
      "0.09150405178837559\n",
      "# 33\n",
      "Acc: 0.9269746646795827\n",
      "Precision: [0.94069193 0.796875  ]\n",
      "Recall: [0.97773973 0.5862069 ]\n",
      "              precision    recall  f1-score   support\n",
      "\n",
      "           0    0.94069   0.97774   0.95886       584\n",
      "           1    0.79688   0.58621   0.67550        87\n",
      "\n",
      "    accuracy                        0.92697       671\n",
      "   macro avg    0.86878   0.78197   0.81718       671\n",
      "weighted avg    0.92205   0.92697   0.92212       671\n",
      "\n",
      "\n",
      "\n",
      "\n"
     ]
    }
   ],
   "source": [
    "#adaptivebeta\n",
    "import numpy as np\n",
    "import pandas as pd\n",
    "import math\n",
    "import random\n",
    "import time\n",
    "from sklearn.metrics import accuracy_score, recall_score, precision_score, classification_report\n",
    "from sklearn.model_selection import train_test_split\n",
    "from sklearn.ensemble import RandomForestClassifier\n",
    "from sklearn.neighbors import KNeighborsClassifier\n",
    "from sklearn.preprocessing import StandardScaler\n",
    "\n",
    "\n",
    "\n",
    "swarm_size = 20   #population size\n",
    "max_iterations = 100\n",
    "omega = 0.2  #used in the fitness function\n",
    "delta=0.2   #to set an upper limit for including a slightly worse particle in LAHC\n",
    "\n",
    "\n",
    "def mutate(agent):\n",
    "  percent=0.2\n",
    "  numChange=int(total_features*percent)\n",
    "  pos=np.random.randint(0,total_features-1,numChange) #choose random positions to be mutated\n",
    "  agent[pos]=1-agent[pos] #mutation\n",
    "  return agent\n",
    "\n",
    "def LAHC(particle):\n",
    "            _lambda = 15 #upper limit on number of iterations in LAHC\n",
    "            target_fitness = find_fitness(particle) #original fitness\n",
    "            for i in range(_lambda):\n",
    "                    new_particle = mutate(particle) #first mutation\n",
    "                    temp = find_fitness(new_particle)\n",
    "                    if temp < target_fitness:\n",
    "                        particle = new_particle.copy() #updation\n",
    "                        target_fitness = temp\n",
    "                    elif (temp<=(1+delta)*target_fitness):\n",
    "                        temp_particle = new_particle.copy()\n",
    "                        for j in range(_lambda):\n",
    "                            temp_particle1 = mutate(temp_particle) #second mutation\n",
    "                            temp_fitness = find_fitness(temp_particle1)\n",
    "                            if temp_fitness < target_fitness:\n",
    "                                target_fitness=temp_fitness\n",
    "                                particle=temp_particle1.copy() #updation\n",
    "                            break\n",
    "            return particle   \n",
    "\n",
    "def randomwalk(agent):\n",
    "    percent = 30\n",
    "    percent /= 100\n",
    "    neighbor = agent.copy()\n",
    "    size = np.shape(agent)[0]\n",
    "    upper = int(percent*size)\n",
    "    if upper <= 1:\n",
    "        upper = size\n",
    "    x = random.randint(1,upper)\n",
    "    pos = random.sample(range(0,size - 1),x)\n",
    "    for i in pos:\n",
    "        neighbor[i] = 1 - neighbor[i]\n",
    "    return neighbor\n",
    "\n",
    "def adaptiveBeta(agent):\n",
    "    bmin = 0.1 #parameter: (can be made 0.01)\n",
    "    bmax = 1\n",
    "    maxIter = 10 # parameter: (can be increased )\n",
    "    \n",
    "    agentFit = find_fitness(agent)\n",
    "    for curr in range(maxIter):\n",
    "        neighbor = agent.copy()\n",
    "        size = np.shape(neighbor)[0]\n",
    "        neighbor = randomwalk(neighbor)\n",
    "\n",
    "        beta = bmin + (curr / maxIter)*(bmax - bmin)\n",
    "        for i in range(size):\n",
    "            random.seed( time.time() + i )\n",
    "            if random.random() <= beta:\n",
    "                neighbor[i] = agent[i]\n",
    "        neighFit = find_fitness(neighbor)\n",
    "        if neighFit <= agentFit:\n",
    "            agent = neighbor.copy()\n",
    "            \n",
    "\n",
    "\n",
    "    return agent\n",
    "\n",
    "def find_fitness(particle):\n",
    "            features = []\n",
    "            for x in range(len(particle)):\n",
    "                    if particle[x]>=0.5: #convert it to zeros and ones\n",
    "                        features.append(df.columns[x])\n",
    "            if(len(features)==0):\n",
    "                        return 10000\n",
    "            new_x_train = train_x[features].copy()\n",
    "            new_x_test = test_x[features].copy()\n",
    "\n",
    "            _classifier = KNeighborsClassifier(n_neighbors=5)\n",
    "            _classifier.fit(new_x_train, train_y)\n",
    "            predictions = _classifier.predict(new_x_test)\n",
    "            acc = accuracy_score(y_true = test_y, y_pred = predictions)\n",
    "            fitness = acc\n",
    "            err=1-acc\n",
    "            num_features = len(features)\n",
    "            fitness =  alpha*err + (1-alpha)*(num_features/total_features)\n",
    "\n",
    "            return fitness\n",
    "\n",
    "def transfer_func(velocity): #to convert into an array of zeros and ones\n",
    "            t=[]\n",
    "            for i in range(len(velocity)):\n",
    "                    t.append(abs(velocity[i]/(math.sqrt(1+velocity[i]*velocity[i])))) #transfer function inside paranthesis\n",
    "            return t\n",
    "\n",
    "#initialize swarm position and swarm velocity of SSD\n",
    "swarm_vel = np.random.uniform(low=0, high=1, size=(swarm_size,total_features))\n",
    "\n",
    "swarm_pos = np.random.uniform(size=(swarm_size,total_features))\n",
    "swarm_pos = np.where(swarm_pos>=0.5,1,0)\n",
    "\n",
    "c = 100\n",
    "alpha= 0.9\n",
    "\n",
    "gbest_fitness=100000\n",
    "pbest_fitness = np.zeros(swarm_size)\n",
    "pbest_fitness.fill(np.inf)  #initialize with the worse possible values\n",
    "pbest = np.empty((swarm_size,total_features))\n",
    "gbest = np.empty(total_features)\n",
    "pbest.fill(np.inf)\n",
    "gbest.fill(np.inf)\n",
    "\n",
    "for itr in range(max_iterations):\n",
    "\n",
    "                for i in range(swarm_size):\n",
    "                  \n",
    "                    swarm_pos[i] = adaptiveBeta(swarm_pos[i]) #for ABHC local search\n",
    "                    #swarm_pos[i] = LAHC(swarm_pos[i]) #for LAHC local search\n",
    "                    fitness = find_fitness(swarm_pos[i])\n",
    "\n",
    "                    if fitness < gbest_fitness:\n",
    "\n",
    "                        gbest=swarm_pos[i].copy() #updating global best\n",
    "                        gbest_fitness=fitness\n",
    "\n",
    "\n",
    "\n",
    "                    if fitness < pbest_fitness[i]:\n",
    "                        pbest[i] = swarm_pos[i].copy() #updating personal best\n",
    "                        pbest_fitness[i]=fitness\n",
    "\n",
    "                    r1 = random.random()\n",
    "                    r2 = random.random()\n",
    "\n",
    "          #updating the swarm velocity\n",
    "                    if r1 < 0.5:\n",
    "                        swarm_vel[i] = c*math.sin(r2)*(pbest[i]-swarm_pos[i]) +math.sin(r2)* (gbest-swarm_pos[i])\n",
    "                    else:\n",
    "                        swarm_vel[i] = c*math.cos(r2)*(pbest[i]-swarm_pos[i]) + math.cos(r2)*(gbest-swarm_pos[i])\n",
    "                    \n",
    "          #decaying value of c\n",
    "                    alpha= 0.9\n",
    "                    c=alpha*c;\n",
    "          \n",
    "          #applying transfer function and then updating the swarm position\n",
    "                    t = transfer_func(swarm_vel[i])\n",
    "                    for j in range(len(swarm_pos[i])):\n",
    "                        if(t[j] < 0.5):\n",
    "                            swarm_pos[i][j] = swarm_pos[i][j]\n",
    "                        else:\n",
    "                            swarm_pos[i][j] = 1 - swarm_pos[i][j]\n",
    "\n",
    "\n",
    "\n",
    "selected_features = gbest\n",
    "print(gbest_fitness)\n",
    "            \n",
    "number_of_selected_features = np.sum(selected_features)\n",
    "print(\"#\",number_of_selected_features)\n",
    "\n",
    "features=[]\n",
    "for j in range(len(selected_features)):\n",
    "                if selected_features[j]==1:\n",
    "                        features.append(df.columns[j])\n",
    "new_x_train = train_x[features]\n",
    "new_x_test = test_x[features]\n",
    "\n",
    "_classifier = KNeighborsClassifier(n_neighbors=5)\n",
    "_classifier.fit(new_x_train, train_y)\n",
    "predictions = _classifier.predict(new_x_test)\n",
    "acc = accuracy_score(y_true = test_y, y_pred = predictions)\n",
    "pre = precision_score(y_true = test_y, y_pred = predictions,average=None)\n",
    "rec = recall_score(y_true = test_y, y_pred = predictions, average=None)\n",
    "result = classification_report(y_true = test_y, y_pred = predictions, digits=5)\n",
    "fitness = acc\n",
    "print(\"Acc:\",fitness)\n",
    "print(\"Precision:\", pre)\n",
    "print(\"Recall:\",rec)\n",
    "print(result)\n",
    "print(\"\\n\\n\")"
   ]
  },
  {
   "cell_type": "markdown",
   "id": "c274a955",
   "metadata": {
    "papermill": {
     "duration": 2.801959,
     "end_time": "2023-10-26T15:58:06.713211",
     "exception": false,
     "start_time": "2023-10-26T15:58:03.911252",
     "status": "completed"
    },
    "tags": []
   },
   "source": [
    "# Training Procedure"
   ]
  },
  {
   "cell_type": "code",
   "execution_count": 12,
   "id": "f9dc885d",
   "metadata": {
    "execution": {
     "iopub.execute_input": "2023-10-26T15:58:12.341005Z",
     "iopub.status.busy": "2023-10-26T15:58:12.340289Z",
     "iopub.status.idle": "2023-10-26T15:58:12.588830Z",
     "shell.execute_reply": "2023-10-26T15:58:12.587658Z"
    },
    "papermill": {
     "duration": 3.050657,
     "end_time": "2023-10-26T15:58:12.591248",
     "exception": false,
     "start_time": "2023-10-26T15:58:09.540591",
     "status": "completed"
    },
    "tags": []
   },
   "outputs": [
    {
     "name": "stdout",
     "output_type": "stream",
     "text": [
      "0.7819733112895607\n",
      "0.7819733112895607\n"
     ]
    },
    {
     "data": {
      "image/png": "[encoded data removed]",
      "text/plain": [
       "<Figure size 432x288 with 1 Axes>"
      ]
     },
     "metadata": {
      "needs_background": "light"
     },
     "output_type": "display_data"
    }
   ],
   "source": [
    "from sklearn.metrics import roc_curve, auc, roc_auc_score\n",
    "fpr, tpr, thresholds = roc_curve(test_y, predictions)\n",
    "\n",
    "auc = auc(fpr, tpr)\n",
    "sc = roc_auc_score(test_y, predictions)\n",
    "print(auc)\n",
    "print(sc)\n",
    "\n",
    "import matplotlib.pyplot as plt\n",
    "plt.figure(1)\n",
    "plt.plot([0, 1], [0, 1],\"--\")\n",
    "\n",
    "plt.plot(fpr, tpr, label='ROC curve (area = {:.3f})'.format(auc), color='orange')\n",
    "plt.xlabel('False positive rate')\n",
    "plt.ylabel('True positive rate')\n",
    "plt.title('ROC curve')\n",
    "plt.legend(loc='best')\n",
    "plt.show()\n",
    "     "
   ]
  }
 ],
 "metadata": {
  "kernelspec": {
   "display_name": "Python 3",
   "language": "python",
   "name": "python3"
  },
  "language_info": {
   "codemirror_mode": {
    "name": "ipython",
    "version": 3
   },
   "file_extension": ".py",
   "mimetype": "text/x-python",
   "name": "python",
   "nbconvert_exporter": "python",
   "pygments_lexer": "ipython3",
   "version": "3.7.12"
  },
  "papermill": {
   "default_parameters": {},
   "duration": 5436.643291,
   "end_time": "2023-10-26T15:58:18.815943",
   "environment_variables": {},
   "exception": null,
   "input_path": "__notebook__.ipynb",
   "output_path": "__notebook__.ipynb",
   "parameters": {},
   "start_time": "2023-10-26T14:27:42.172652",
   "version": "2.3.4"
  }
 },
 "nbformat": 4,
 "nbformat_minor": 5
}
